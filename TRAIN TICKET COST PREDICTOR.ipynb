{
 "cells": [
  {
   "cell_type": "code",
   "execution_count": 1,
   "metadata": {},
   "outputs": [],
   "source": [
    "import pandas as pd\n",
    "import numpy as np\n",
    "import sklearn\n",
    "from sklearn import linear_model\n",
    "from sklearn.model_selection import train_test_split\n",
    "import matplotlib.pyplot as plt\n",
    "import seaborn as sns\n",
    "import pickle\n",
    "import warnings\n",
    "warnings.filterwarnings(\"ignore\")\n",
    "%matplotlib inline"
   ]
  },
  {
   "cell_type": "code",
   "execution_count": 2,
   "metadata": {},
   "outputs": [],
   "source": [
    "data=pd.read_csv('ticketcostx.csv')"
   ]
  },
  {
   "cell_type": "code",
   "execution_count": 3,
   "metadata": {},
   "outputs": [
    {
     "data": {
      "text/html": [
       "<div>\n",
       "<style scoped>\n",
       "    .dataframe tbody tr th:only-of-type {\n",
       "        vertical-align: middle;\n",
       "    }\n",
       "\n",
       "    .dataframe tbody tr th {\n",
       "        vertical-align: top;\n",
       "    }\n",
       "\n",
       "    .dataframe thead th {\n",
       "        text-align: right;\n",
       "    }\n",
       "</style>\n",
       "<table border=\"1\" class=\"dataframe\">\n",
       "  <thead>\n",
       "    <tr style=\"text-align: right;\">\n",
       "      <th></th>\n",
       "      <th>Unnamed: 0</th>\n",
       "      <th>insert_date</th>\n",
       "      <th>origin</th>\n",
       "      <th>destination</th>\n",
       "      <th>start_date</th>\n",
       "      <th>end_date</th>\n",
       "      <th>train_type</th>\n",
       "      <th>price</th>\n",
       "      <th>train_class</th>\n",
       "      <th>fare</th>\n",
       "    </tr>\n",
       "  </thead>\n",
       "  <tbody>\n",
       "    <tr>\n",
       "      <th>0</th>\n",
       "      <td>0</td>\n",
       "      <td>19/04/19 5:31</td>\n",
       "      <td>DELHI-SAFDAR</td>\n",
       "      <td>AGRA CANTT</td>\n",
       "      <td>29/05/19 6:20</td>\n",
       "      <td>29/05/19 9:16</td>\n",
       "      <td>Super Fast</td>\n",
       "      <td>38.55</td>\n",
       "      <td>2AC</td>\n",
       "      <td>Promo</td>\n",
       "    </tr>\n",
       "    <tr>\n",
       "      <th>1</th>\n",
       "      <td>1</td>\n",
       "      <td>19/04/19 5:31</td>\n",
       "      <td>DELHI-SAFDAR</td>\n",
       "      <td>AGRA CANTT</td>\n",
       "      <td>29/05/19 7:00</td>\n",
       "      <td>29/05/19 9:32</td>\n",
       "      <td>Passenger Train</td>\n",
       "      <td>53.40</td>\n",
       "      <td>2AC</td>\n",
       "      <td>Promo</td>\n",
       "    </tr>\n",
       "    <tr>\n",
       "      <th>2</th>\n",
       "      <td>2</td>\n",
       "      <td>19/04/19 5:31</td>\n",
       "      <td>DELHI-SAFDAR</td>\n",
       "      <td>AGRA CANTT</td>\n",
       "      <td>29/05/19 7:30</td>\n",
       "      <td>29/05/19 9:51</td>\n",
       "      <td>Passenger Train</td>\n",
       "      <td>47.30</td>\n",
       "      <td>2AC</td>\n",
       "      <td>Promo</td>\n",
       "    </tr>\n",
       "    <tr>\n",
       "      <th>3</th>\n",
       "      <td>3</td>\n",
       "      <td>19/04/19 5:31</td>\n",
       "      <td>DELHI-SAFDAR</td>\n",
       "      <td>AGRA CANTT</td>\n",
       "      <td>29/05/19 8:00</td>\n",
       "      <td>29/05/19 10:32</td>\n",
       "      <td>Super Fast</td>\n",
       "      <td>69.40</td>\n",
       "      <td>1AC</td>\n",
       "      <td>Promo</td>\n",
       "    </tr>\n",
       "    <tr>\n",
       "      <th>4</th>\n",
       "      <td>4</td>\n",
       "      <td>19/04/19 5:31</td>\n",
       "      <td>DELHI-SAFDAR</td>\n",
       "      <td>AGRA CANTT</td>\n",
       "      <td>29/05/19 8:30</td>\n",
       "      <td>29/05/19 11:14</td>\n",
       "      <td>Express Train</td>\n",
       "      <td>NaN</td>\n",
       "      <td>1AC</td>\n",
       "      <td>Promo</td>\n",
       "    </tr>\n",
       "  </tbody>\n",
       "</table>\n",
       "</div>"
      ],
      "text/plain": [
       "   Unnamed: 0    insert_date        origin destination     start_date  \\\n",
       "0           0  19/04/19 5:31  DELHI-SAFDAR  AGRA CANTT  29/05/19 6:20   \n",
       "1           1  19/04/19 5:31  DELHI-SAFDAR  AGRA CANTT  29/05/19 7:00   \n",
       "2           2  19/04/19 5:31  DELHI-SAFDAR  AGRA CANTT  29/05/19 7:30   \n",
       "3           3  19/04/19 5:31  DELHI-SAFDAR  AGRA CANTT  29/05/19 8:00   \n",
       "4           4  19/04/19 5:31  DELHI-SAFDAR  AGRA CANTT  29/05/19 8:30   \n",
       "\n",
       "         end_date       train_type  price train_class   fare  \n",
       "0   29/05/19 9:16       Super Fast  38.55         2AC  Promo  \n",
       "1   29/05/19 9:32  Passenger Train  53.40         2AC  Promo  \n",
       "2   29/05/19 9:51  Passenger Train  47.30         2AC  Promo  \n",
       "3  29/05/19 10:32       Super Fast  69.40         1AC  Promo  \n",
       "4  29/05/19 11:14    Express Train    NaN         1AC  Promo  "
      ]
     },
     "execution_count": 3,
     "metadata": {},
     "output_type": "execute_result"
    }
   ],
   "source": [
    "data.head()"
   ]
  },
  {
   "cell_type": "code",
   "execution_count": 4,
   "metadata": {},
   "outputs": [
    {
     "data": {
      "text/html": [
       "<div>\n",
       "<style scoped>\n",
       "    .dataframe tbody tr th:only-of-type {\n",
       "        vertical-align: middle;\n",
       "    }\n",
       "\n",
       "    .dataframe tbody tr th {\n",
       "        vertical-align: top;\n",
       "    }\n",
       "\n",
       "    .dataframe thead th {\n",
       "        text-align: right;\n",
       "    }\n",
       "</style>\n",
       "<table border=\"1\" class=\"dataframe\">\n",
       "  <thead>\n",
       "    <tr style=\"text-align: right;\">\n",
       "      <th></th>\n",
       "      <th>Unnamed: 0</th>\n",
       "      <th>price</th>\n",
       "    </tr>\n",
       "  </thead>\n",
       "  <tbody>\n",
       "    <tr>\n",
       "      <th>count</th>\n",
       "      <td>419.000000</td>\n",
       "      <td>354.000000</td>\n",
       "    </tr>\n",
       "    <tr>\n",
       "      <th>mean</th>\n",
       "      <td>209.000000</td>\n",
       "      <td>61.265395</td>\n",
       "    </tr>\n",
       "    <tr>\n",
       "      <th>std</th>\n",
       "      <td>121.099133</td>\n",
       "      <td>12.830945</td>\n",
       "    </tr>\n",
       "    <tr>\n",
       "      <th>min</th>\n",
       "      <td>0.000000</td>\n",
       "      <td>34.350000</td>\n",
       "    </tr>\n",
       "    <tr>\n",
       "      <th>25%</th>\n",
       "      <td>104.500000</td>\n",
       "      <td>49.150000</td>\n",
       "    </tr>\n",
       "    <tr>\n",
       "      <th>50%</th>\n",
       "      <td>209.000000</td>\n",
       "      <td>60.300000</td>\n",
       "    </tr>\n",
       "    <tr>\n",
       "      <th>75%</th>\n",
       "      <td>313.500000</td>\n",
       "      <td>69.400000</td>\n",
       "    </tr>\n",
       "    <tr>\n",
       "      <th>max</th>\n",
       "      <td>418.000000</td>\n",
       "      <td>128.500000</td>\n",
       "    </tr>\n",
       "  </tbody>\n",
       "</table>\n",
       "</div>"
      ],
      "text/plain": [
       "       Unnamed: 0       price\n",
       "count  419.000000  354.000000\n",
       "mean   209.000000   61.265395\n",
       "std    121.099133   12.830945\n",
       "min      0.000000   34.350000\n",
       "25%    104.500000   49.150000\n",
       "50%    209.000000   60.300000\n",
       "75%    313.500000   69.400000\n",
       "max    418.000000  128.500000"
      ]
     },
     "execution_count": 4,
     "metadata": {},
     "output_type": "execute_result"
    }
   ],
   "source": [
    "data.describe()"
   ]
  },
  {
   "cell_type": "code",
   "execution_count": 5,
   "metadata": {},
   "outputs": [
    {
     "data": {
      "text/plain": [
       "Unnamed: 0      0\n",
       "insert_date     0\n",
       "origin          0\n",
       "destination     0\n",
       "start_date      0\n",
       "end_date        0\n",
       "train_type      0\n",
       "price          65\n",
       "train_class     2\n",
       "fare            0\n",
       "dtype: int64"
      ]
     },
     "execution_count": 5,
     "metadata": {},
     "output_type": "execute_result"
    }
   ],
   "source": [
    "data.isnull().sum()"
   ]
  },
  {
   "cell_type": "code",
   "execution_count": 6,
   "metadata": {},
   "outputs": [],
   "source": [
    "data['price'].fillna(data['price'].mean(), inplace=True)\n",
    "data = data.dropna(axis=0,how='any')\n",
    "\n"
   ]
  },
  {
   "cell_type": "code",
   "execution_count": 7,
   "metadata": {},
   "outputs": [
    {
     "data": {
      "text/plain": [
       "<matplotlib.axes._subplots.AxesSubplot at 0x1a1ad0e4a8>"
      ]
     },
     "execution_count": 7,
     "metadata": {},
     "output_type": "execute_result"
    },
    {
     "data": {
      "image/png": "[encoded data removed]",
      "text/plain": [
       "<Figure size 432x288 with 1 Axes>"
      ]
     },
     "metadata": {
      "needs_background": "light"
     },
     "output_type": "display_data"
    }
   ],
   "source": [
    "sns.distplot(data['price'])"
   ]
  },
  {
   "cell_type": "code",
   "execution_count": 8,
   "metadata": {},
   "outputs": [],
   "source": [
    "data['month'] = pd.to_datetime(data.start_date).apply(lambda x: x.month)\n",
    "data['day'] = pd.to_datetime(data.start_date).apply(lambda x: x.day)\n",
    "data['dayname'] = pd.to_datetime(data.start_date).apply(lambda x: x.day_name())\n",
    "data=data.drop('Unnamed: 0',axis=1)"
   ]
  },
  {
   "cell_type": "code",
   "execution_count": 9,
   "metadata": {},
   "outputs": [
    {
     "data": {
      "text/html": [
       "<div>\n",
       "<style scoped>\n",
       "    .dataframe tbody tr th:only-of-type {\n",
       "        vertical-align: middle;\n",
       "    }\n",
       "\n",
       "    .dataframe tbody tr th {\n",
       "        vertical-align: top;\n",
       "    }\n",
       "\n",
       "    .dataframe thead th {\n",
       "        text-align: right;\n",
       "    }\n",
       "</style>\n",
       "<table border=\"1\" class=\"dataframe\">\n",
       "  <thead>\n",
       "    <tr style=\"text-align: right;\">\n",
       "      <th></th>\n",
       "      <th>insert_date</th>\n",
       "      <th>origin</th>\n",
       "      <th>destination</th>\n",
       "      <th>start_date</th>\n",
       "      <th>end_date</th>\n",
       "      <th>train_type</th>\n",
       "      <th>price</th>\n",
       "      <th>train_class</th>\n",
       "      <th>fare</th>\n",
       "      <th>month</th>\n",
       "      <th>day</th>\n",
       "      <th>dayname</th>\n",
       "    </tr>\n",
       "  </thead>\n",
       "  <tbody>\n",
       "    <tr>\n",
       "      <th>0</th>\n",
       "      <td>19/04/19 5:31</td>\n",
       "      <td>DELHI-SAFDAR</td>\n",
       "      <td>AGRA CANTT</td>\n",
       "      <td>29/05/19 6:20</td>\n",
       "      <td>29/05/19 9:16</td>\n",
       "      <td>Super Fast</td>\n",
       "      <td>38.550000</td>\n",
       "      <td>2AC</td>\n",
       "      <td>Promo</td>\n",
       "      <td>5</td>\n",
       "      <td>29</td>\n",
       "      <td>Wednesday</td>\n",
       "    </tr>\n",
       "    <tr>\n",
       "      <th>1</th>\n",
       "      <td>19/04/19 5:31</td>\n",
       "      <td>DELHI-SAFDAR</td>\n",
       "      <td>AGRA CANTT</td>\n",
       "      <td>29/05/19 7:00</td>\n",
       "      <td>29/05/19 9:32</td>\n",
       "      <td>Passenger Train</td>\n",
       "      <td>53.400000</td>\n",
       "      <td>2AC</td>\n",
       "      <td>Promo</td>\n",
       "      <td>5</td>\n",
       "      <td>29</td>\n",
       "      <td>Wednesday</td>\n",
       "    </tr>\n",
       "    <tr>\n",
       "      <th>2</th>\n",
       "      <td>19/04/19 5:31</td>\n",
       "      <td>DELHI-SAFDAR</td>\n",
       "      <td>AGRA CANTT</td>\n",
       "      <td>29/05/19 7:30</td>\n",
       "      <td>29/05/19 9:51</td>\n",
       "      <td>Passenger Train</td>\n",
       "      <td>47.300000</td>\n",
       "      <td>2AC</td>\n",
       "      <td>Promo</td>\n",
       "      <td>5</td>\n",
       "      <td>29</td>\n",
       "      <td>Wednesday</td>\n",
       "    </tr>\n",
       "    <tr>\n",
       "      <th>3</th>\n",
       "      <td>19/04/19 5:31</td>\n",
       "      <td>DELHI-SAFDAR</td>\n",
       "      <td>AGRA CANTT</td>\n",
       "      <td>29/05/19 8:00</td>\n",
       "      <td>29/05/19 10:32</td>\n",
       "      <td>Super Fast</td>\n",
       "      <td>69.400000</td>\n",
       "      <td>1AC</td>\n",
       "      <td>Promo</td>\n",
       "      <td>5</td>\n",
       "      <td>29</td>\n",
       "      <td>Wednesday</td>\n",
       "    </tr>\n",
       "    <tr>\n",
       "      <th>4</th>\n",
       "      <td>19/04/19 5:31</td>\n",
       "      <td>DELHI-SAFDAR</td>\n",
       "      <td>AGRA CANTT</td>\n",
       "      <td>29/05/19 8:30</td>\n",
       "      <td>29/05/19 11:14</td>\n",
       "      <td>Express Train</td>\n",
       "      <td>61.265395</td>\n",
       "      <td>1AC</td>\n",
       "      <td>Promo</td>\n",
       "      <td>5</td>\n",
       "      <td>29</td>\n",
       "      <td>Wednesday</td>\n",
       "    </tr>\n",
       "  </tbody>\n",
       "</table>\n",
       "</div>"
      ],
      "text/plain": [
       "     insert_date        origin destination     start_date        end_date  \\\n",
       "0  19/04/19 5:31  DELHI-SAFDAR  AGRA CANTT  29/05/19 6:20   29/05/19 9:16   \n",
       "1  19/04/19 5:31  DELHI-SAFDAR  AGRA CANTT  29/05/19 7:00   29/05/19 9:32   \n",
       "2  19/04/19 5:31  DELHI-SAFDAR  AGRA CANTT  29/05/19 7:30   29/05/19 9:51   \n",
       "3  19/04/19 5:31  DELHI-SAFDAR  AGRA CANTT  29/05/19 8:00  29/05/19 10:32   \n",
       "4  19/04/19 5:31  DELHI-SAFDAR  AGRA CANTT  29/05/19 8:30  29/05/19 11:14   \n",
       "\n",
       "        train_type      price train_class   fare  month  day    dayname  \n",
       "0       Super Fast  38.550000         2AC  Promo      5   29  Wednesday  \n",
       "1  Passenger Train  53.400000         2AC  Promo      5   29  Wednesday  \n",
       "2  Passenger Train  47.300000         2AC  Promo      5   29  Wednesday  \n",
       "3       Super Fast  69.400000         1AC  Promo      5   29  Wednesday  \n",
       "4    Express Train  61.265395         1AC  Promo      5   29  Wednesday  "
      ]
     },
     "execution_count": 9,
     "metadata": {},
     "output_type": "execute_result"
    }
   ],
   "source": [
    "data.head()"
   ]
  },
  {
   "cell_type": "code",
   "execution_count": 10,
   "metadata": {},
   "outputs": [],
   "source": [
    "data['duration'] = (pd.to_datetime(data.end_date)-pd.to_datetime(data.start_date)).apply(lambda x: (x.seconds)/60)\n",
    "data['route'] = data.origin+data.destination\n",
    "route_names = {}\n",
    "i = 1\n",
    "for route in data.route.unique().tolist():\n",
    "    route_names[\"route_\"+ \"-\" + route] = \"route\"+str(i)\n",
    "    i = i+1\n"
   ]
  },
  {
   "cell_type": "code",
   "execution_count": 11,
   "metadata": {},
   "outputs": [
    {
     "data": {
      "text/plain": [
       "0    2AC\n",
       "1    2AC\n",
       "2    2AC\n",
       "3    1AC\n",
       "4    1AC\n",
       "Name: train_class, dtype: object"
      ]
     },
     "execution_count": 11,
     "metadata": {},
     "output_type": "execute_result"
    }
   ],
   "source": [
    "train_cls=data['train_class']\n",
    "train_cls.head()"
   ]
  },
  {
   "cell_type": "code",
   "execution_count": 12,
   "metadata": {},
   "outputs": [
    {
     "data": {
      "text/html": [
       "<div>\n",
       "<style scoped>\n",
       "    .dataframe tbody tr th:only-of-type {\n",
       "        vertical-align: middle;\n",
       "    }\n",
       "\n",
       "    .dataframe tbody tr th {\n",
       "        vertical-align: top;\n",
       "    }\n",
       "\n",
       "    .dataframe thead th {\n",
       "        text-align: right;\n",
       "    }\n",
       "</style>\n",
       "<table border=\"1\" class=\"dataframe\">\n",
       "  <thead>\n",
       "    <tr style=\"text-align: right;\">\n",
       "      <th></th>\n",
       "      <th>insert_date</th>\n",
       "      <th>origin</th>\n",
       "      <th>destination</th>\n",
       "      <th>start_date</th>\n",
       "      <th>end_date</th>\n",
       "      <th>train_type</th>\n",
       "      <th>price</th>\n",
       "      <th>train_class</th>\n",
       "      <th>fare</th>\n",
       "      <th>month</th>\n",
       "      <th>day</th>\n",
       "      <th>dayname</th>\n",
       "      <th>duration</th>\n",
       "      <th>route</th>\n",
       "    </tr>\n",
       "  </thead>\n",
       "  <tbody>\n",
       "    <tr>\n",
       "      <th>414</th>\n",
       "      <td>19/04/19 5:34</td>\n",
       "      <td>GANDHINAGAR</td>\n",
       "      <td>MANDOR</td>\n",
       "      <td>12/05/19 15:45</td>\n",
       "      <td>12/05/19 18:15</td>\n",
       "      <td>Passenger Train</td>\n",
       "      <td>76.300000</td>\n",
       "      <td>1AC</td>\n",
       "      <td>Flexible</td>\n",
       "      <td>12</td>\n",
       "      <td>5</td>\n",
       "      <td>Thursday</td>\n",
       "      <td>150.0</td>\n",
       "      <td>GANDHINAGARMANDOR</td>\n",
       "    </tr>\n",
       "    <tr>\n",
       "      <th>415</th>\n",
       "      <td>19/04/19 5:34</td>\n",
       "      <td>GANDHINAGAR</td>\n",
       "      <td>MANDOR</td>\n",
       "      <td>12/05/19 16:15</td>\n",
       "      <td>12/05/19 18:54</td>\n",
       "      <td>Passenger Train</td>\n",
       "      <td>76.300000</td>\n",
       "      <td>1AC</td>\n",
       "      <td>Flexible</td>\n",
       "      <td>12</td>\n",
       "      <td>5</td>\n",
       "      <td>Thursday</td>\n",
       "      <td>159.0</td>\n",
       "      <td>GANDHINAGARMANDOR</td>\n",
       "    </tr>\n",
       "    <tr>\n",
       "      <th>416</th>\n",
       "      <td>19/04/19 5:34</td>\n",
       "      <td>GANDHINAGAR</td>\n",
       "      <td>MANDOR</td>\n",
       "      <td>12/05/19 16:45</td>\n",
       "      <td>12/05/19 19:17</td>\n",
       "      <td>Passenger Train</td>\n",
       "      <td>61.265395</td>\n",
       "      <td>1AC</td>\n",
       "      <td>Flexible</td>\n",
       "      <td>12</td>\n",
       "      <td>5</td>\n",
       "      <td>Thursday</td>\n",
       "      <td>152.0</td>\n",
       "      <td>GANDHINAGARMANDOR</td>\n",
       "    </tr>\n",
       "    <tr>\n",
       "      <th>417</th>\n",
       "      <td>19/04/19 5:34</td>\n",
       "      <td>GANDHINAGAR</td>\n",
       "      <td>MANDOR</td>\n",
       "      <td>12/05/19 17:45</td>\n",
       "      <td>12/05/19 20:17</td>\n",
       "      <td>Passenger Train</td>\n",
       "      <td>76.300000</td>\n",
       "      <td>1AC</td>\n",
       "      <td>Flexible</td>\n",
       "      <td>12</td>\n",
       "      <td>5</td>\n",
       "      <td>Thursday</td>\n",
       "      <td>152.0</td>\n",
       "      <td>GANDHINAGARMANDOR</td>\n",
       "    </tr>\n",
       "    <tr>\n",
       "      <th>418</th>\n",
       "      <td>19/04/19 5:34</td>\n",
       "      <td>GANDHINAGAR</td>\n",
       "      <td>MANDOR</td>\n",
       "      <td>12/05/19 18:45</td>\n",
       "      <td>12/05/19 21:17</td>\n",
       "      <td>Passenger Train</td>\n",
       "      <td>76.300000</td>\n",
       "      <td>1AC</td>\n",
       "      <td>Flexible</td>\n",
       "      <td>12</td>\n",
       "      <td>5</td>\n",
       "      <td>Thursday</td>\n",
       "      <td>152.0</td>\n",
       "      <td>GANDHINAGARMANDOR</td>\n",
       "    </tr>\n",
       "  </tbody>\n",
       "</table>\n",
       "</div>"
      ],
      "text/plain": [
       "       insert_date       origin destination      start_date        end_date  \\\n",
       "414  19/04/19 5:34  GANDHINAGAR      MANDOR  12/05/19 15:45  12/05/19 18:15   \n",
       "415  19/04/19 5:34  GANDHINAGAR      MANDOR  12/05/19 16:15  12/05/19 18:54   \n",
       "416  19/04/19 5:34  GANDHINAGAR      MANDOR  12/05/19 16:45  12/05/19 19:17   \n",
       "417  19/04/19 5:34  GANDHINAGAR      MANDOR  12/05/19 17:45  12/05/19 20:17   \n",
       "418  19/04/19 5:34  GANDHINAGAR      MANDOR  12/05/19 18:45  12/05/19 21:17   \n",
       "\n",
       "          train_type      price train_class      fare  month  day   dayname  \\\n",
       "414  Passenger Train  76.300000         1AC  Flexible     12    5  Thursday   \n",
       "415  Passenger Train  76.300000         1AC  Flexible     12    5  Thursday   \n",
       "416  Passenger Train  61.265395         1AC  Flexible     12    5  Thursday   \n",
       "417  Passenger Train  76.300000         1AC  Flexible     12    5  Thursday   \n",
       "418  Passenger Train  76.300000         1AC  Flexible     12    5  Thursday   \n",
       "\n",
       "     duration              route  \n",
       "414     150.0  GANDHINAGARMANDOR  \n",
       "415     159.0  GANDHINAGARMANDOR  \n",
       "416     152.0  GANDHINAGARMANDOR  \n",
       "417     152.0  GANDHINAGARMANDOR  \n",
       "418     152.0  GANDHINAGARMANDOR  "
      ]
     },
     "execution_count": 12,
     "metadata": {},
     "output_type": "execute_result"
    }
   ],
   "source": [
    "data.tail()"
   ]
  },
  {
   "cell_type": "code",
   "execution_count": 13,
   "metadata": {},
   "outputs": [],
   "source": [
    "data['duration'].fillna(data['duration'].mean(), inplace=True)\n"
   ]
  },
  {
   "cell_type": "code",
   "execution_count": 14,
   "metadata": {},
   "outputs": [
    {
     "data": {
      "text/plain": [
       "<matplotlib.axes._subplots.AxesSubplot at 0x1a1b67edd8>"
      ]
     },
     "execution_count": 14,
     "metadata": {},
     "output_type": "execute_result"
    },
    {
     "data": {
      "image/png": "[encoded data removed]",
      "text/plain": [
       "<Figure size 432x288 with 1 Axes>"
      ]
     },
     "metadata": {
      "needs_background": "light"
     },
     "output_type": "display_data"
    }
   ],
   "source": [
    "sns.distplot(data['duration'])"
   ]
  },
  {
   "cell_type": "code",
   "execution_count": 15,
   "metadata": {},
   "outputs": [
    {
     "data": {
      "image/png": "[encoded data removed]",
      "text/plain": [
       "<Figure size 1080x1080 with 4 Axes>"
      ]
     },
     "metadata": {
      "needs_background": "light"
     },
     "output_type": "display_data"
    }
   ],
   "source": [
    "fig,axs = plt.subplots(ncols=2,nrows=2,figsize=(15,15))\n",
    "_ = sns.countplot(x=data.route,ax=axs[0,0]).set_xticklabels(rotation=90,labels=data.route.unique())\n",
    "_ = sns.countplot(x=data.train_class,ax=axs[0,1]).set_xticklabels(rotation=90,labels=data.train_class.unique())\n",
    "_ = sns.countplot(x=data.train_type,ax=axs[1,0]).set_xticklabels(rotation=90,labels=data.train_type.unique())\n",
    "_ = sns.countplot(x=data.fare,ax=axs[1,1]).set_xticklabels(rotation=90,labels=data.fare.unique())\n",
    "fig.subplots_adjust(hspace=.9)"
   ]
  },
  {
   "cell_type": "code",
   "execution_count": 16,
   "metadata": {},
   "outputs": [
    {
     "data": {
      "text/plain": [
       "<matplotlib.axes._subplots.AxesSubplot at 0x1a1bde4160>"
      ]
     },
     "execution_count": 16,
     "metadata": {},
     "output_type": "execute_result"
    },
    {
     "data": {
      "image/png": "[encoded data removed]",
      "text/plain": [
       "<Figure size 432x288 with 1 Axes>"
      ]
     },
     "metadata": {
      "needs_background": "light"
     },
     "output_type": "display_data"
    }
   ],
   "source": [
    "sns.regplot(x='duration',y='price',data=data)"
   ]
  },
  {
   "cell_type": "code",
   "execution_count": 17,
   "metadata": {},
   "outputs": [
    {
     "data": {
      "text/plain": [
       "<Figure size 2160x720 with 0 Axes>"
      ]
     },
     "metadata": {},
     "output_type": "display_data"
    },
    {
     "data": {
      "image/png": "[encoded data removed]",
      "text/plain": [
       "<Figure size 432x288 with 1 Axes>"
      ]
     },
     "metadata": {
      "needs_background": "light"
     },
     "output_type": "display_data"
    }
   ],
   "source": [
    "plt.figure(figsize=(30,10))\n",
    "\n",
    "df = pd.DataFrame(data.groupby(['duration'])['price'].mean().sort_values(ascending = False))\n",
    "df.plot.bar()\n",
    "plt.title('Duration vs Average Price')\n",
    "plt.show()"
   ]
  },
  {
   "cell_type": "code",
   "execution_count": 18,
   "metadata": {},
   "outputs": [
    {
     "data": {
      "text/plain": [
       "<Figure size 2160x720 with 0 Axes>"
      ]
     },
     "metadata": {},
     "output_type": "display_data"
    },
    {
     "data": {
      "image/png": "[encoded data removed]",
      "text/plain": [
       "<Figure size 432x288 with 1 Axes>"
      ]
     },
     "metadata": {
      "needs_background": "light"
     },
     "output_type": "display_data"
    }
   ],
   "source": [
    "plt.figure(figsize=(30,10))\n",
    "\n",
    "df = pd.DataFrame(data.groupby(['route'])['price'].mean().sort_values(ascending = False))\n",
    "df.plot.bar()\n",
    "plt.title('Route vs Average Price')\n",
    "plt.show()"
   ]
  },
  {
   "cell_type": "code",
   "execution_count": 19,
   "metadata": {},
   "outputs": [
    {
     "data": {
      "text/plain": [
       "<Figure size 2160x720 with 0 Axes>"
      ]
     },
     "metadata": {},
     "output_type": "display_data"
    },
    {
     "data": {
      "image/png": "[encoded data removed]",
      "text/plain": [
       "<Figure size 432x288 with 1 Axes>"
      ]
     },
     "metadata": {
      "needs_background": "light"
     },
     "output_type": "display_data"
    }
   ],
   "source": [
    "plt.figure(figsize=(30,10))\n",
    "\n",
    "df = pd.DataFrame(data.groupby(['train_type'])['price'].mean().sort_values(ascending = False))\n",
    "df.plot.bar()\n",
    "plt.title('Train Type vs Average Price')\n",
    "plt.show()"
   ]
  },
  {
   "cell_type": "code",
   "execution_count": 20,
   "metadata": {},
   "outputs": [
    {
     "data": {
      "text/plain": [
       "<matplotlib.axes._subplots.AxesSubplot at 0x1a1c3e7f60>"
      ]
     },
     "execution_count": 20,
     "metadata": {},
     "output_type": "execute_result"
    },
    {
     "data": {
      "image/png": "[encoded data removed]",
      "text/plain": [
       "<Figure size 432x288 with 1 Axes>"
      ]
     },
     "metadata": {
      "needs_background": "light"
     },
     "output_type": "display_data"
    }
   ],
   "source": [
    "sns.barplot(x='train_class',y='price',data=data)"
   ]
  },
  {
   "cell_type": "code",
   "execution_count": 21,
   "metadata": {},
   "outputs": [
    {
     "data": {
      "text/plain": [
       "<matplotlib.axes._subplots.AxesSubplot at 0x1a1c607518>"
      ]
     },
     "execution_count": 21,
     "metadata": {},
     "output_type": "execute_result"
    },
    {
     "data": {
      "image/png": "[encoded data removed]",
      "text/plain": [
       "<Figure size 432x288 with 1 Axes>"
      ]
     },
     "metadata": {
      "needs_background": "light"
     },
     "output_type": "display_data"
    }
   ],
   "source": [
    "sns.barplot(x='fare',y='price',data=data)"
   ]
  },
  {
   "cell_type": "code",
   "execution_count": 22,
   "metadata": {},
   "outputs": [
    {
     "data": {
      "image/png": "[encoded data removed]",
      "text/plain": [
       "<Figure size 1080x1080 with 3 Axes>"
      ]
     },
     "metadata": {
      "needs_background": "light"
     },
     "output_type": "display_data"
    }
   ],
   "source": [
    "fig,axs = plt.subplots(ncols=2,nrows=2,figsize=(15,15))\n",
    "_ = sns.lineplot(x='dayname',y='price',data=data,ax=axs[0,0])\n",
    "_ = sns.lineplot(x='month',y='price',data=data,ax=axs[0,1])\n",
    "_ = sns.lineplot(x='day',y='price',data=data,ax=axs[1,0])\n",
    "fig.delaxes(axs[1,1])"
   ]
  },
  {
   "cell_type": "code",
   "execution_count": 23,
   "metadata": {},
   "outputs": [
    {
     "data": {
      "text/plain": [
       "array(['DELHI-SAFDARAGRA CANTT', 'AGRA CANTTDELHI-SAFDAR',\n",
       "       'SAWANTWADI RMADGOAN JN.', 'GANDHINAGARMANDOR'], dtype=object)"
      ]
     },
     "execution_count": 23,
     "metadata": {},
     "output_type": "execute_result"
    }
   ],
   "source": [
    "data['route'].unique()"
   ]
  },
  {
   "cell_type": "code",
   "execution_count": 24,
   "metadata": {},
   "outputs": [],
   "source": [
    "sig_col=['train_type','train_class','fare','month','day','dayname','duration','route']\n",
    "X=data[sig_col]\n",
    "Y=data['price']"
   ]
  },
  {
   "cell_type": "code",
   "execution_count": 25,
   "metadata": {},
   "outputs": [],
   "source": [
    "#For days\n",
    "\n",
    "def convert_to_int(word):\n",
    "    word_dict = {'Monday':1, 'Tuesday':2, 'Wednesday':3, 'Thursday':4, 'Friday':5, 'Saturday': 6, 'Sunday':7,0:0}\n",
    "    return word_dict[word]\n",
    "\n",
    "X['dayname'] = X['dayname'].apply(lambda x : convert_to_int(x))"
   ]
  },
  {
   "cell_type": "code",
   "execution_count": 26,
   "metadata": {},
   "outputs": [],
   "source": [
    "#For train class\n",
    "\n",
    "def convert_to_int(word):\n",
    "    word_dict = {'1AC':1, '2AC':2, 'SL':3, '1AC Plus':4,0:0}\n",
    "    return word_dict[word]\n",
    "\n",
    "X['train_class'] = X['train_class'].apply(lambda x : convert_to_int(x))"
   ]
  },
  {
   "cell_type": "code",
   "execution_count": 27,
   "metadata": {},
   "outputs": [],
   "source": [
    "#For train type\n",
    "\n",
    "def convert_to_int(word):\n",
    "    word_dict = {'Super Fast':1, 'Passenger Train':2, 'Express Train':3, 'INTERCITY':4, 'MD-LD':5, 'MD': 6, 'LD-MD':7,0:0}\n",
    "    return word_dict[word]\n",
    "\n",
    "X['train_type'] = X['train_type'].apply(lambda x : convert_to_int(x))"
   ]
  },
  {
   "cell_type": "code",
   "execution_count": 28,
   "metadata": {},
   "outputs": [],
   "source": [
    "#For fare\n",
    "def convert_to_int(word):\n",
    "    word_dict = {'Promo':1, 'Flexible':2,0:0}\n",
    "    return word_dict[word]\n",
    "\n",
    "X['fare'] = X['fare'].apply(lambda x : convert_to_int(x))"
   ]
  },
  {
   "cell_type": "code",
   "execution_count": 29,
   "metadata": {},
   "outputs": [],
   "source": [
    "#For Route\n",
    "\n",
    "def convert_to_int(word):\n",
    "    word_dict = {'DELHI-SAFDARAGRA CANTT':1, 'AGRA CANTTDELHI-SAFDAR':2, 'SAWANTWADI RMADGOAN JN.':3, 'GANDHINAGARMANDOR':4,0:0}\n",
    "    return word_dict[word]\n",
    "\n",
    "X['route'] = X['route'].apply(lambda x : convert_to_int(x))"
   ]
  },
  {
   "cell_type": "code",
   "execution_count": 30,
   "metadata": {},
   "outputs": [
    {
     "data": {
      "text/plain": [
       "'\\nx_train, x_test, y_train, y_test = sklearn.model_selection.train_test_split(X, Y, test_size=0.4,random_state=0)\\nfrom sklearn.ensemble import RandomForestRegressor\\nregressor=RandomForestRegressor(n_estimators=10,random_state=0)\\nregressor.fit(x_test,y_test)\\nwith open(\"ticketprices1.pickle\", \"wb\") as f:\\n            pickle.dump(linear, f)\\npickle_in = open(\"ticketprices1.pickle\", \"rb\")\\nregressor = pickle.load(pickle_in)\\nacc=regressor.score(x_test, y_test)\\nacc\\n'"
      ]
     },
     "execution_count": 30,
     "metadata": {},
     "output_type": "execute_result"
    }
   ],
   "source": [
    "#Training using Random Forest\n",
    "'''\n",
    "x_train, x_test, y_train, y_test = sklearn.model_selection.train_test_split(X, Y, test_size=0.4,random_state=0)\n",
    "from sklearn.ensemble import RandomForestRegressor\n",
    "regressor=RandomForestRegressor(n_estimators=10,random_state=0)\n",
    "regressor.fit(x_test,y_test)\n",
    "with open(\"ticketprices1.pickle\", \"wb\") as f:\n",
    "            pickle.dump(linear, f)\n",
    "pickle_in = open(\"ticketprices1.pickle\", \"rb\")\n",
    "regressor = pickle.load(pickle_in)\n",
    "acc=regressor.score(x_test, y_test)\n",
    "acc\n",
    "'''"
   ]
  },
  {
   "cell_type": "code",
   "execution_count": 31,
   "metadata": {},
   "outputs": [],
   "source": [
    "\n",
    "# TRAIN MODEL MULTIPLE TIMES FOR BEST SCORE\n",
    "best = 0\n",
    "for _ in range(20):\n",
    "    x_train, x_test, y_train, y_test = sklearn.model_selection.train_test_split(X, Y, test_size=0.1)\n",
    "\n",
    "    linear = linear_model.LinearRegression()\n",
    "\n",
    "    linear.fit(x_train, y_train)\n",
    "    acc1 = linear.score(x_test, y_test)\n",
    "   # print(\"Accuracy: \" + str(acc))\n",
    "\n",
    "    if acc1 > best:\n",
    "        best = acc1\n",
    "        with open(\"ticketprices.pickle\", \"wb\") as f:\n",
    "            pickle.dump(linear, f)\n"
   ]
  },
  {
   "cell_type": "code",
   "execution_count": 32,
   "metadata": {},
   "outputs": [
    {
     "data": {
      "text/plain": [
       "0.4115538009072959"
      ]
     },
     "execution_count": 32,
     "metadata": {},
     "output_type": "execute_result"
    }
   ],
   "source": [
    "pickle_in = open(\"ticketprices.pickle\", \"rb\")\n",
    "linear = pickle.load(pickle_in)\n",
    "acc1\n"
   ]
  },
  {
   "cell_type": "code",
   "execution_count": 33,
   "metadata": {},
   "outputs": [],
   "source": [
    "predicted= linear.predict(x_test)\n",
    "x_test1=np.array(x_test)\n",
    "y_test1=np.array(y_test)"
   ]
  },
  {
   "cell_type": "code",
   "execution_count": 34,
   "metadata": {},
   "outputs": [
    {
     "name": "stdout",
     "output_type": "stream",
     "text": [
      "53.4   [  2.   2.   1.   5.  20.   1. 152.   3.]\n",
      "53.48\n",
      "\n",
      "47.3   [  2.   2.   1.   5.  22.   3. 141.   3.]\n",
      "54.39\n",
      "\n",
      "76.3   [  2.   1.   2.   5.  19.   7. 150.   3.]\n",
      "75.40\n",
      "\n",
      "38.55   [  1.   2.   1.   5.  23.   4. 172.   3.]\n",
      "53.37\n",
      "\n",
      "69.4   [  2.   1.   1.   5.  20.   1. 160.   3.]\n",
      "55.80\n",
      "\n",
      "61.26539548022588   [  3.   2.   1.  12.   5.   4. 158.   4.]\n",
      "66.35\n",
      "\n",
      "47.3   [  2.   2.   1.   5.  21.   2. 152.   3.]\n",
      "53.72\n",
      "\n",
      "60.3   [  2.   1.   1.   5.  24.   5. 152.   2.]\n",
      "59.29\n",
      "\n",
      "60.3   [  2.   1.   1.   5.  25.   6. 150.   2.]\n",
      "59.61\n",
      "\n",
      "60.3   [  2.   1.   1.   5.  20.   1. 152.   3.]\n",
      "56.11\n",
      "\n",
      "53.4   [  2.   2.   1.   5.  26.   7. 141.   1.]\n",
      "59.79\n",
      "\n",
      "76.3   [  2.   1.   2.   4.  22.   1. 163.   3.]\n",
      "67.04\n",
      "\n",
      "60.3   [  2.   1.   1.   5.  22.   3. 152.   3.]\n",
      "56.59\n",
      "\n",
      "60.3   [  2.   1.   1.   5.  13.   1. 152.   4.]\n",
      "58.60\n",
      "\n",
      "52.5   [  6.   3.   2.  12.   5.   4. 745.   4.]\n",
      "53.97\n",
      "\n",
      "61.26539548022588   [  2.   1.   2.  12.   5.   4. 152.   4.]\n",
      "82.22\n",
      "\n",
      "60.3   [  2.   1.   1.   5.  20.   1. 152.   3.]\n",
      "56.11\n",
      "\n",
      "53.4   [  2.   2.   1.   5.  29.   3. 152.   1.]\n",
      "53.69\n",
      "\n",
      "47.3   [  2.   2.   1.   5.  21.   2. 159.   3.]\n",
      "53.45\n",
      "\n",
      "47.3   [  2.   1.   1.   5.  15.   3. 163.   4.]\n",
      "58.65\n",
      "\n",
      "67.2   [  3.   1.   2.   5.  21.   2. 158.   3.]\n",
      "69.23\n",
      "\n"
     ]
    }
   ],
   "source": [
    "#Comparing predicitons with actual results\n",
    "for w in range(21):\n",
    "    print(y_test1[w],' ',x_test1[w])\n",
    "    print(\"{:.2f}\".format(predicted[w]))\n",
    "    print()"
   ]
  },
  {
   "cell_type": "markdown",
   "metadata": {},
   "source": [
    "NEW INPUTS\n",
    "\n",
    "LENGEND :\n",
    "\n",
    "1.TRAIN CLASS:\n",
    "\n",
    "'1AC':1, '2AC':2, 'SL':3 , '1AC PLUS' :4\n",
    "\n",
    "2.TRAIN TYPE:\n",
    "\n",
    "'Super Fast':1, 'Passenger Train':2, 'Express Train':3, 'INTERCITY':4, 'MD-LD':5, 'MD': 6, 'LD-MD':7\n",
    "\n",
    "3.FARE :\n",
    "\n",
    "'Promo':1, 'Flexible':2\n",
    "\n",
    "4.MONTH :\n",
    "\n",
    "NUMBER OF THE MONTH\n",
    "\n",
    "\n",
    "4.DAY NAME:\n",
    "\n",
    "'Monday':1, 'Tuesday':2, 'Wednesday':3, 'Thursday':4, 'Friday':5, 'Saturday': 6, 'Sunday':7\n",
    "\n",
    "5.ROUTE:\n",
    "\n",
    "'DELHI-SAFDARAGRA CANTT':1, 'AGRA CANTTDELHI-SAFDAR':2, 'SAWANTWADI RMADGOAN JN.':3, 'GANDHINAGARMANDOR':4\n"
   ]
  },
  {
   "cell_type": "code",
   "execution_count": 50,
   "metadata": {},
   "outputs": [],
   "source": [
    "train_type=1\n",
    "train_class=3\n",
    "fare=2\n",
    "month=5\n",
    "day=20\n",
    "dayname=5\n",
    "duration=160\n",
    "route=3"
   ]
  },
  {
   "cell_type": "code",
   "execution_count": 51,
   "metadata": {},
   "outputs": [
    {
     "data": {
      "text/plain": [
       "array([[  1],\n",
       "       [  3],\n",
       "       [  2],\n",
       "       [  5],\n",
       "       [ 20],\n",
       "       [  5],\n",
       "       [160],\n",
       "       [  3]])"
      ]
     },
     "execution_count": 51,
     "metadata": {},
     "output_type": "execute_result"
    }
   ],
   "source": [
    "inputt=[train_type,train_class,fare,month,day,dayname,duration,route]\n",
    "inputt = np.asarray(inputt)\n",
    "inputt.reshape(-1,1)"
   ]
  },
  {
   "cell_type": "code",
   "execution_count": 52,
   "metadata": {},
   "outputs": [
    {
     "name": "stdout",
     "output_type": "stream",
     "text": [
      "*********************************************TRAIN TICKET COST PREDICTION*************************************\n",
      "\n",
      "Predicted Ticket Price: \n",
      " Rs. [268.80379917]\n"
     ]
    }
   ],
   "source": [
    " print('*********************************************TRAIN TICKET COST PREDICTION*************************************')\n",
    "print()\n",
    "print ('Predicted Ticket Price: \\n', \"Rs.\",linear.predict([inputt])*4)"
   ]
  },
  {
   "cell_type": "code",
   "execution_count": null,
   "metadata": {},
   "outputs": [],
   "source": []
  }
 ],
 "metadata": {
  "kernelspec": {
   "display_name": "Python 3",
   "language": "python",
   "name": "python3"
  },
  "language_info": {
   "codemirror_mode": {
    "name": "ipython",
    "version": 3
   },
   "file_extension": ".py",
   "mimetype": "text/x-python",
   "name": "python",
   "nbconvert_exporter": "python",
   "pygments_lexer": "ipython3",
   "version": "3.7.3"
  }
 },
 "nbformat": 4,
 "nbformat_minor": 2
}
